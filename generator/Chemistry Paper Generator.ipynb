{
 "cells": [
  {
   "cell_type": "code",
   "execution_count": null,
   "metadata": {},
   "outputs": [
    {
     "name": "stdout",
     "output_type": "stream",
     "text": [
      "Hello! Lets get started and generate a paper!\n",
      "How many questions do you want?\n"
     ]
    }
   ],
   "source": [
    "import pandas as pd\n",
    "import random\n",
    "\n",
    "df = pd.read_csv('data\\chemistry_question_answers.csv')\n",
    "question_list = []\n",
    "\n",
    "def question_generator(x):\n",
    "    l = 0\n",
    "    while l <= x:\n",
    "        a = random.randint(0, 241)\n",
    "        print (df.loc[a,'Question'])\n",
    "        print(\"\\n\")\n",
    "        question_list.append(a)\n",
    "        l += 1\n",
    "\n",
    "def answer_generator():\n",
    "    for b in question_list:\n",
    "        print (df.loc[b, 'Answer'])\n",
    "        print (\"\\n\")\n",
    "def question_paper():\n",
    "    print (\"Hello! Lets get started and generate a paper!\")\n",
    "    print (\"How many questions do you want?\")\n",
    "    x = int(input())\n",
    "    print(\"Here is your question paper!\")\n",
    "    qp = \"Chemistry Question Paper!\"\n",
    "    print (qp.center(80))\n",
    "    question_generator(x)\n",
    "    answers = input(\"print answers? (please type yes or no)\")\n",
    "    if answers == \"yes\":\n",
    "        answer_generator()\n",
    "    else:\n",
    "        return\n",
    "\n",
    "question_paper()"
   ]
  },
  {
   "cell_type": "code",
   "execution_count": null,
   "metadata": {},
   "outputs": [],
   "source": []
  }
 ],
 "metadata": {
  "kernelspec": {
   "display_name": "Python 3",
   "language": "python",
   "name": "python3"
  }
 },
 "nbformat": 4,
 "nbformat_minor": 4
}
